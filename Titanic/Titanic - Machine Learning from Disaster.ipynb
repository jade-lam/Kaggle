{
  "nbformat": 4,
  "nbformat_minor": 0,
  "metadata": {
    "colab": {
      "name": "Titanic - Machine Learning from Disaster.ipynb",
      "provenance": [],
      "collapsed_sections": [],
      "authorship_tag": "ABX9TyOH50USCcEAg886yNTBWyjR"
    },
    "kernelspec": {
      "name": "python3",
      "display_name": "Python 3"
    },
    "language_info": {
      "name": "python"
    }
  },
  "cells": [
    {
      "cell_type": "markdown",
      "metadata": {
        "id": "NTX5-nTw6QGn"
      },
      "source": [
        "## **Titanic - Machine Learning from Disaster**<br>\n",
        "The \"Getting Started\" Kaggle Competition, with an objective to predict the 418 passengers' survival on the Titanic."
      ]
    },
    {
      "cell_type": "code",
      "metadata": {
        "id": "-uCStE3x7ZD2"
      },
      "source": [
        "#!pip install -q kaggle"
      ],
      "execution_count": 414,
      "outputs": []
    },
    {
      "cell_type": "code",
      "metadata": {
        "id": "eyK14hBD6NxM"
      },
      "source": [
        "import numpy as np\n",
        "import pandas as pd\n",
        "import matplotlib.pyplot as plt\n",
        "import seaborn as sns\n",
        "from sklearn.preprocessing import OneHotEncoder\n",
        "from sklearn.model_selection import train_test_split, cross_val_score, GridSearchCV\n",
        "from sklearn.linear_model import LogisticRegression\n",
        "from sklearn.metrics import confusion_matrix, plot_confusion_matrix, recall_score\n",
        "from sklearn.metrics import f1_score, accuracy_score, roc_auc_score, plot_roc_curve, precision_score\n",
        "import xgboost as xgb\n",
        "from xgboost import XGBClassifier, plot_importance"
      ],
      "execution_count": 415,
      "outputs": []
    },
    {
      "cell_type": "code",
      "metadata": {
        "colab": {
          "base_uri": "https://localhost:8080/"
        },
        "id": "j-j3uUtt6_AX",
        "outputId": "c5d75885-efeb-4de8-c766-84fbb0d2c3f3"
      },
      "source": [
        "#connect to google drive\n",
        "from google.colab import drive\n",
        "drive.mount('/content/drive')"
      ],
      "execution_count": 416,
      "outputs": [
        {
          "output_type": "stream",
          "text": [
            "Drive already mounted at /content/drive; to attempt to forcibly remount, call drive.mount(\"/content/drive\", force_remount=True).\n"
          ],
          "name": "stdout"
        }
      ]
    },
    {
      "cell_type": "code",
      "metadata": {
        "id": "TgA1Cq-r7Uzo"
      },
      "source": [
        "#importing the kaggle dataset\n",
        "#import os\n",
        "#os.environ['KAGGLE_CONFIG_DIR'] = '/content/drive/MyDrive/Colab Notebooks/Kaggle/Titanic'\n",
        "\n",
        "#changing to the working directory\n",
        "#%cd /content/drive/MyDrive/Colab Notebooks/Kaggle/Titanic\n",
        "\n",
        "#Kaggle API command for the dataset\n",
        "#!kaggle competitions download -c titanic"
      ],
      "execution_count": 417,
      "outputs": []
    },
    {
      "cell_type": "code",
      "metadata": {
        "id": "SbNlqk5x790a"
      },
      "source": [
        "# specifying the filepaths\n",
        "submission = '/content/drive/MyDrive/Colab Notebooks/Kaggle/Titanic/gender_submission.csv'\n",
        "test = '/content/drive/MyDrive/Colab Notebooks/Kaggle/Titanic/test.csv'\n",
        "train = '/content/drive/MyDrive/Colab Notebooks/Kaggle/Titanic/train.csv'"
      ],
      "execution_count": 418,
      "outputs": []
    },
    {
      "cell_type": "markdown",
      "metadata": {
        "id": "inYI49pi8MHM"
      },
      "source": [
        "**1) Loading the Data**"
      ]
    },
    {
      "cell_type": "code",
      "metadata": {
        "colab": {
          "base_uri": "https://localhost:8080/",
          "height": 143
        },
        "id": "6OX9a0ka8jFI",
        "outputId": "691ff43a-78c6-4611-e22b-2c56902c3d24"
      },
      "source": [
        "testraw = pd.read_csv(test)\n",
        "testraw.head(3)"
      ],
      "execution_count": 419,
      "outputs": [
        {
          "output_type": "execute_result",
          "data": {
            "text/html": [
              "<div>\n",
              "<style scoped>\n",
              "    .dataframe tbody tr th:only-of-type {\n",
              "        vertical-align: middle;\n",
              "    }\n",
              "\n",
              "    .dataframe tbody tr th {\n",
              "        vertical-align: top;\n",
              "    }\n",
              "\n",
              "    .dataframe thead th {\n",
              "        text-align: right;\n",
              "    }\n",
              "</style>\n",
              "<table border=\"1\" class=\"dataframe\">\n",
              "  <thead>\n",
              "    <tr style=\"text-align: right;\">\n",
              "      <th></th>\n",
              "      <th>PassengerId</th>\n",
              "      <th>Pclass</th>\n",
              "      <th>Name</th>\n",
              "      <th>Sex</th>\n",
              "      <th>Age</th>\n",
              "      <th>SibSp</th>\n",
              "      <th>Parch</th>\n",
              "      <th>Ticket</th>\n",
              "      <th>Fare</th>\n",
              "      <th>Cabin</th>\n",
              "      <th>Embarked</th>\n",
              "    </tr>\n",
              "  </thead>\n",
              "  <tbody>\n",
              "    <tr>\n",
              "      <th>0</th>\n",
              "      <td>892</td>\n",
              "      <td>3</td>\n",
              "      <td>Kelly, Mr. James</td>\n",
              "      <td>male</td>\n",
              "      <td>34.5</td>\n",
              "      <td>0</td>\n",
              "      <td>0</td>\n",
              "      <td>330911</td>\n",
              "      <td>7.8292</td>\n",
              "      <td>NaN</td>\n",
              "      <td>Q</td>\n",
              "    </tr>\n",
              "    <tr>\n",
              "      <th>1</th>\n",
              "      <td>893</td>\n",
              "      <td>3</td>\n",
              "      <td>Wilkes, Mrs. James (Ellen Needs)</td>\n",
              "      <td>female</td>\n",
              "      <td>47.0</td>\n",
              "      <td>1</td>\n",
              "      <td>0</td>\n",
              "      <td>363272</td>\n",
              "      <td>7.0000</td>\n",
              "      <td>NaN</td>\n",
              "      <td>S</td>\n",
              "    </tr>\n",
              "    <tr>\n",
              "      <th>2</th>\n",
              "      <td>894</td>\n",
              "      <td>2</td>\n",
              "      <td>Myles, Mr. Thomas Francis</td>\n",
              "      <td>male</td>\n",
              "      <td>62.0</td>\n",
              "      <td>0</td>\n",
              "      <td>0</td>\n",
              "      <td>240276</td>\n",
              "      <td>9.6875</td>\n",
              "      <td>NaN</td>\n",
              "      <td>Q</td>\n",
              "    </tr>\n",
              "  </tbody>\n",
              "</table>\n",
              "</div>"
            ],
            "text/plain": [
              "   PassengerId  Pclass                              Name  ...    Fare  Cabin  Embarked\n",
              "0          892       3                  Kelly, Mr. James  ...  7.8292    NaN         Q\n",
              "1          893       3  Wilkes, Mrs. James (Ellen Needs)  ...  7.0000    NaN         S\n",
              "2          894       2         Myles, Mr. Thomas Francis  ...  9.6875    NaN         Q\n",
              "\n",
              "[3 rows x 11 columns]"
            ]
          },
          "metadata": {
            "tags": []
          },
          "execution_count": 419
        }
      ]
    },
    {
      "cell_type": "code",
      "metadata": {
        "colab": {
          "base_uri": "https://localhost:8080/",
          "height": 143
        },
        "id": "4ufho00c8O5q",
        "outputId": "b4b2a120-9b71-4dd2-8c81-5b8276ab57cf"
      },
      "source": [
        "trainraw = pd.read_csv(train)\n",
        "trainraw.head(3)"
      ],
      "execution_count": 420,
      "outputs": [
        {
          "output_type": "execute_result",
          "data": {
            "text/html": [
              "<div>\n",
              "<style scoped>\n",
              "    .dataframe tbody tr th:only-of-type {\n",
              "        vertical-align: middle;\n",
              "    }\n",
              "\n",
              "    .dataframe tbody tr th {\n",
              "        vertical-align: top;\n",
              "    }\n",
              "\n",
              "    .dataframe thead th {\n",
              "        text-align: right;\n",
              "    }\n",
              "</style>\n",
              "<table border=\"1\" class=\"dataframe\">\n",
              "  <thead>\n",
              "    <tr style=\"text-align: right;\">\n",
              "      <th></th>\n",
              "      <th>PassengerId</th>\n",
              "      <th>Survived</th>\n",
              "      <th>Pclass</th>\n",
              "      <th>Name</th>\n",
              "      <th>Sex</th>\n",
              "      <th>Age</th>\n",
              "      <th>SibSp</th>\n",
              "      <th>Parch</th>\n",
              "      <th>Ticket</th>\n",
              "      <th>Fare</th>\n",
              "      <th>Cabin</th>\n",
              "      <th>Embarked</th>\n",
              "    </tr>\n",
              "  </thead>\n",
              "  <tbody>\n",
              "    <tr>\n",
              "      <th>0</th>\n",
              "      <td>1</td>\n",
              "      <td>0</td>\n",
              "      <td>3</td>\n",
              "      <td>Braund, Mr. Owen Harris</td>\n",
              "      <td>male</td>\n",
              "      <td>22.0</td>\n",
              "      <td>1</td>\n",
              "      <td>0</td>\n",
              "      <td>A/5 21171</td>\n",
              "      <td>7.2500</td>\n",
              "      <td>NaN</td>\n",
              "      <td>S</td>\n",
              "    </tr>\n",
              "    <tr>\n",
              "      <th>1</th>\n",
              "      <td>2</td>\n",
              "      <td>1</td>\n",
              "      <td>1</td>\n",
              "      <td>Cumings, Mrs. John Bradley (Florence Briggs Th...</td>\n",
              "      <td>female</td>\n",
              "      <td>38.0</td>\n",
              "      <td>1</td>\n",
              "      <td>0</td>\n",
              "      <td>PC 17599</td>\n",
              "      <td>71.2833</td>\n",
              "      <td>C85</td>\n",
              "      <td>C</td>\n",
              "    </tr>\n",
              "    <tr>\n",
              "      <th>2</th>\n",
              "      <td>3</td>\n",
              "      <td>1</td>\n",
              "      <td>3</td>\n",
              "      <td>Heikkinen, Miss. Laina</td>\n",
              "      <td>female</td>\n",
              "      <td>26.0</td>\n",
              "      <td>0</td>\n",
              "      <td>0</td>\n",
              "      <td>STON/O2. 3101282</td>\n",
              "      <td>7.9250</td>\n",
              "      <td>NaN</td>\n",
              "      <td>S</td>\n",
              "    </tr>\n",
              "  </tbody>\n",
              "</table>\n",
              "</div>"
            ],
            "text/plain": [
              "   PassengerId  Survived  Pclass  ...     Fare Cabin  Embarked\n",
              "0            1         0       3  ...   7.2500   NaN         S\n",
              "1            2         1       1  ...  71.2833   C85         C\n",
              "2            3         1       3  ...   7.9250   NaN         S\n",
              "\n",
              "[3 rows x 12 columns]"
            ]
          },
          "metadata": {
            "tags": []
          },
          "execution_count": 420
        }
      ]
    },
    {
      "cell_type": "markdown",
      "metadata": {
        "id": "3nNGm61J817Y"
      },
      "source": [
        "**2) Data Cleaning/ Feature Extraction**"
      ]
    },
    {
      "cell_type": "markdown",
      "metadata": {
        "id": "BrzSbN3J9yuX"
      },
      "source": [
        "Items to check for:<br>\n",
        "\n",
        "\n",
        "*   Duplicated records\n",
        "*   Missing data\n",
        "*   Inconsistent presentations (e.g. upper/ lower case)\n",
        "\n",
        "\n"
      ]
    },
    {
      "cell_type": "code",
      "metadata": {
        "colab": {
          "base_uri": "https://localhost:8080/"
        },
        "id": "vpclNKd-9Eo1",
        "outputId": "de60ef28-a509-4464-8d22-f6bc06fcbf26"
      },
      "source": [
        "print('Row/ column of the dataset:', trainraw.shape)"
      ],
      "execution_count": 421,
      "outputs": [
        {
          "output_type": "stream",
          "text": [
            "Row/ column of the dataset: (891, 12)\n"
          ],
          "name": "stdout"
        }
      ]
    },
    {
      "cell_type": "code",
      "metadata": {
        "colab": {
          "base_uri": "https://localhost:8080/"
        },
        "id": "qygDWSjo84z5",
        "outputId": "67e83d2a-1e49-46c1-cebc-95d55b1c2bc7"
      },
      "source": [
        "# Check for duplciated records\n",
        "trainraw.duplicated().value_counts()"
      ],
      "execution_count": 422,
      "outputs": [
        {
          "output_type": "execute_result",
          "data": {
            "text/plain": [
              "False    891\n",
              "dtype: int64"
            ]
          },
          "metadata": {
            "tags": []
          },
          "execution_count": 422
        }
      ]
    },
    {
      "cell_type": "code",
      "metadata": {
        "colab": {
          "base_uri": "https://localhost:8080/"
        },
        "id": "0GwnTCv09NfO",
        "outputId": "1e4f8c16-d653-494c-add3-f3b3af81b22d"
      },
      "source": [
        "# Check for missing values in the dataset\n",
        "trainraw.isnull().sum()"
      ],
      "execution_count": 423,
      "outputs": [
        {
          "output_type": "execute_result",
          "data": {
            "text/plain": [
              "PassengerId      0\n",
              "Survived         0\n",
              "Pclass           0\n",
              "Name             0\n",
              "Sex              0\n",
              "Age            177\n",
              "SibSp            0\n",
              "Parch            0\n",
              "Ticket           0\n",
              "Fare             0\n",
              "Cabin          687\n",
              "Embarked         2\n",
              "dtype: int64"
            ]
          },
          "metadata": {
            "tags": []
          },
          "execution_count": 423
        }
      ]
    },
    {
      "cell_type": "code",
      "metadata": {
        "id": "RAy_7iUdRxlk"
      },
      "source": [
        "# dropping Cabin, as majority of the data is null\n",
        "trainraw = trainraw.drop('Cabin', axis=1)"
      ],
      "execution_count": 424,
      "outputs": []
    },
    {
      "cell_type": "code",
      "metadata": {
        "colab": {
          "base_uri": "https://localhost:8080/",
          "height": 112
        },
        "id": "TkKhQoS--UeB",
        "outputId": "c586a45e-d26f-45d2-ca33-1c636a8ecb93"
      },
      "source": [
        "# Clean up Embarked\n",
        "trainraw[trainraw['Embarked'].isnull()==True]"
      ],
      "execution_count": 425,
      "outputs": [
        {
          "output_type": "execute_result",
          "data": {
            "text/html": [
              "<div>\n",
              "<style scoped>\n",
              "    .dataframe tbody tr th:only-of-type {\n",
              "        vertical-align: middle;\n",
              "    }\n",
              "\n",
              "    .dataframe tbody tr th {\n",
              "        vertical-align: top;\n",
              "    }\n",
              "\n",
              "    .dataframe thead th {\n",
              "        text-align: right;\n",
              "    }\n",
              "</style>\n",
              "<table border=\"1\" class=\"dataframe\">\n",
              "  <thead>\n",
              "    <tr style=\"text-align: right;\">\n",
              "      <th></th>\n",
              "      <th>PassengerId</th>\n",
              "      <th>Survived</th>\n",
              "      <th>Pclass</th>\n",
              "      <th>Name</th>\n",
              "      <th>Sex</th>\n",
              "      <th>Age</th>\n",
              "      <th>SibSp</th>\n",
              "      <th>Parch</th>\n",
              "      <th>Ticket</th>\n",
              "      <th>Fare</th>\n",
              "      <th>Embarked</th>\n",
              "    </tr>\n",
              "  </thead>\n",
              "  <tbody>\n",
              "    <tr>\n",
              "      <th>61</th>\n",
              "      <td>62</td>\n",
              "      <td>1</td>\n",
              "      <td>1</td>\n",
              "      <td>Icard, Miss. Amelie</td>\n",
              "      <td>female</td>\n",
              "      <td>38.0</td>\n",
              "      <td>0</td>\n",
              "      <td>0</td>\n",
              "      <td>113572</td>\n",
              "      <td>80.0</td>\n",
              "      <td>NaN</td>\n",
              "    </tr>\n",
              "    <tr>\n",
              "      <th>829</th>\n",
              "      <td>830</td>\n",
              "      <td>1</td>\n",
              "      <td>1</td>\n",
              "      <td>Stone, Mrs. George Nelson (Martha Evelyn)</td>\n",
              "      <td>female</td>\n",
              "      <td>62.0</td>\n",
              "      <td>0</td>\n",
              "      <td>0</td>\n",
              "      <td>113572</td>\n",
              "      <td>80.0</td>\n",
              "      <td>NaN</td>\n",
              "    </tr>\n",
              "  </tbody>\n",
              "</table>\n",
              "</div>"
            ],
            "text/plain": [
              "     PassengerId  Survived  Pclass  ...  Ticket  Fare  Embarked\n",
              "61            62         1       1  ...  113572  80.0       NaN\n",
              "829          830         1       1  ...  113572  80.0       NaN\n",
              "\n",
              "[2 rows x 11 columns]"
            ]
          },
          "metadata": {
            "tags": []
          },
          "execution_count": 425
        }
      ]
    },
    {
      "cell_type": "code",
      "metadata": {
        "colab": {
          "base_uri": "https://localhost:8080/"
        },
        "id": "OsdlqnioHA5a",
        "outputId": "d75b38ba-eecf-432f-8e7c-6b6ae18dcd6a"
      },
      "source": [
        "trainraw['Embarked'].value_counts()"
      ],
      "execution_count": 426,
      "outputs": [
        {
          "output_type": "execute_result",
          "data": {
            "text/plain": [
              "S    644\n",
              "C    168\n",
              "Q     77\n",
              "Name: Embarked, dtype: int64"
            ]
          },
          "metadata": {
            "tags": []
          },
          "execution_count": 426
        }
      ]
    },
    {
      "cell_type": "code",
      "metadata": {
        "colab": {
          "base_uri": "https://localhost:8080/"
        },
        "id": "VYNkJVyiHV66",
        "outputId": "a8e17390-474a-44d8-c22a-4b9a816e1d05"
      },
      "source": [
        "# fill Embarked with most frequent value\n",
        "trainraw['Embarked'] = trainraw['Embarked'].fillna('S')\n",
        "trainraw['Embarked'].isnull().any()"
      ],
      "execution_count": 427,
      "outputs": [
        {
          "output_type": "execute_result",
          "data": {
            "text/plain": [
              "False"
            ]
          },
          "metadata": {
            "tags": []
          },
          "execution_count": 427
        }
      ]
    },
    {
      "cell_type": "code",
      "metadata": {
        "id": "12vjslQ_tOi2"
      },
      "source": [
        "# replacing Male/ Female to 0 & 1\n",
        "trainraw['Sex'] = trainraw['Sex'].replace({'male':0, 'female':1})"
      ],
      "execution_count": 428,
      "outputs": []
    },
    {
      "cell_type": "code",
      "metadata": {
        "colab": {
          "base_uri": "https://localhost:8080/"
        },
        "id": "uhY-t4MnKypD",
        "outputId": "93f392d3-3042-4e2e-b8a0-cf0862a66057"
      },
      "source": [
        "# Cleaning up inconsistent format in Name\n",
        "trainraw['Name'] = trainraw['Name'].str.upper()\n",
        "trainraw['Name'].head(10)"
      ],
      "execution_count": 429,
      "outputs": [
        {
          "output_type": "execute_result",
          "data": {
            "text/plain": [
              "0                              BRAUND, MR. OWEN HARRIS\n",
              "1    CUMINGS, MRS. JOHN BRADLEY (FLORENCE BRIGGS TH...\n",
              "2                               HEIKKINEN, MISS. LAINA\n",
              "3         FUTRELLE, MRS. JACQUES HEATH (LILY MAY PEEL)\n",
              "4                             ALLEN, MR. WILLIAM HENRY\n",
              "5                                     MORAN, MR. JAMES\n",
              "6                              MCCARTHY, MR. TIMOTHY J\n",
              "7                       PALSSON, MASTER. GOSTA LEONARD\n",
              "8    JOHNSON, MRS. OSCAR W (ELISABETH VILHELMINA BERG)\n",
              "9                  NASSER, MRS. NICHOLAS (ADELE ACHEM)\n",
              "Name: Name, dtype: object"
            ]
          },
          "metadata": {
            "tags": []
          },
          "execution_count": 429
        }
      ]
    },
    {
      "cell_type": "markdown",
      "metadata": {
        "id": "frDivD0pkyMV"
      },
      "source": [
        "Format of the name is organized by last name, followed by title. Further features can be extracted for analysis."
      ]
    },
    {
      "cell_type": "code",
      "metadata": {
        "id": "hIwYu7epk9u2"
      },
      "source": [
        "# split columns accordingly\n",
        "Name = trainraw['Name'].str.split('[,.]', expand=True)\n",
        "Name.rename(columns={0: 'Last Name', 1: 'Title', 2: 'First Name'}, inplace=True)"
      ],
      "execution_count": 430,
      "outputs": []
    },
    {
      "cell_type": "code",
      "metadata": {
        "id": "x_adLmSmp_ZU"
      },
      "source": [
        "# Merge Name with original dataframe\n",
        "trainraw = trainraw.merge(Name, how='left', left_index=True, right_index=True)"
      ],
      "execution_count": 431,
      "outputs": []
    },
    {
      "cell_type": "code",
      "metadata": {
        "colab": {
          "base_uri": "https://localhost:8080/",
          "height": 112
        },
        "id": "cTpBlqkmrTaI",
        "outputId": "101d7a21-77ed-4997-a849-2ac811aae1ae"
      },
      "source": [
        "trainraw = trainraw.drop(['Name', 3], axis=1)\n",
        "trainraw.head(2)"
      ],
      "execution_count": 432,
      "outputs": [
        {
          "output_type": "execute_result",
          "data": {
            "text/html": [
              "<div>\n",
              "<style scoped>\n",
              "    .dataframe tbody tr th:only-of-type {\n",
              "        vertical-align: middle;\n",
              "    }\n",
              "\n",
              "    .dataframe tbody tr th {\n",
              "        vertical-align: top;\n",
              "    }\n",
              "\n",
              "    .dataframe thead th {\n",
              "        text-align: right;\n",
              "    }\n",
              "</style>\n",
              "<table border=\"1\" class=\"dataframe\">\n",
              "  <thead>\n",
              "    <tr style=\"text-align: right;\">\n",
              "      <th></th>\n",
              "      <th>PassengerId</th>\n",
              "      <th>Survived</th>\n",
              "      <th>Pclass</th>\n",
              "      <th>Sex</th>\n",
              "      <th>Age</th>\n",
              "      <th>SibSp</th>\n",
              "      <th>Parch</th>\n",
              "      <th>Ticket</th>\n",
              "      <th>Fare</th>\n",
              "      <th>Embarked</th>\n",
              "      <th>Last Name</th>\n",
              "      <th>Title</th>\n",
              "      <th>First Name</th>\n",
              "    </tr>\n",
              "  </thead>\n",
              "  <tbody>\n",
              "    <tr>\n",
              "      <th>0</th>\n",
              "      <td>1</td>\n",
              "      <td>0</td>\n",
              "      <td>3</td>\n",
              "      <td>0</td>\n",
              "      <td>22.0</td>\n",
              "      <td>1</td>\n",
              "      <td>0</td>\n",
              "      <td>A/5 21171</td>\n",
              "      <td>7.2500</td>\n",
              "      <td>S</td>\n",
              "      <td>BRAUND</td>\n",
              "      <td>MR</td>\n",
              "      <td>OWEN HARRIS</td>\n",
              "    </tr>\n",
              "    <tr>\n",
              "      <th>1</th>\n",
              "      <td>2</td>\n",
              "      <td>1</td>\n",
              "      <td>1</td>\n",
              "      <td>1</td>\n",
              "      <td>38.0</td>\n",
              "      <td>1</td>\n",
              "      <td>0</td>\n",
              "      <td>PC 17599</td>\n",
              "      <td>71.2833</td>\n",
              "      <td>C</td>\n",
              "      <td>CUMINGS</td>\n",
              "      <td>MRS</td>\n",
              "      <td>JOHN BRADLEY (FLORENCE BRIGGS THAYER)</td>\n",
              "    </tr>\n",
              "  </tbody>\n",
              "</table>\n",
              "</div>"
            ],
            "text/plain": [
              "   PassengerId  Survived  ...  Title                              First Name\n",
              "0            1         0  ...     MR                             OWEN HARRIS\n",
              "1            2         1  ...    MRS   JOHN BRADLEY (FLORENCE BRIGGS THAYER)\n",
              "\n",
              "[2 rows x 13 columns]"
            ]
          },
          "metadata": {
            "tags": []
          },
          "execution_count": 432
        }
      ]
    },
    {
      "cell_type": "code",
      "metadata": {
        "colab": {
          "base_uri": "https://localhost:8080/"
        },
        "id": "jr2zlzpHrkGT",
        "outputId": "a54de78e-a60e-48ea-be00-1eb74483eacc"
      },
      "source": [
        "#check the titles\n",
        "trainraw['Title'].value_counts()"
      ],
      "execution_count": 433,
      "outputs": [
        {
          "output_type": "execute_result",
          "data": {
            "text/plain": [
              " MR              517\n",
              " MISS            182\n",
              " MRS             125\n",
              " MASTER           40\n",
              " DR                7\n",
              " REV               6\n",
              " MLLE              2\n",
              " MAJOR             2\n",
              " COL               2\n",
              " SIR               1\n",
              " LADY              1\n",
              " MME               1\n",
              " CAPT              1\n",
              " MS                1\n",
              " DON               1\n",
              " JONKHEER          1\n",
              " THE COUNTESS      1\n",
              "Name: Title, dtype: int64"
            ]
          },
          "metadata": {
            "tags": []
          },
          "execution_count": 433
        }
      ]
    },
    {
      "cell_type": "markdown",
      "metadata": {
        "id": "dYaRicEbrvKP"
      },
      "source": [
        "Reducing/ Grouping the titles - Mr, Sir, Don/ MRS, Miss, MS, Lady, MLLE, MME/ ranked - Major, Col, CAPT, DR, The Countess/ master"
      ]
    },
    {
      "cell_type": "code",
      "metadata": {
        "id": "Srv0MVUIv4IK"
      },
      "source": [
        "# cleaning up titles \n",
        "trainraw['Title'] = trainraw['Title'].replace(dict.fromkeys(['DON', 'SIR'], 'MR'), regex=True).str. strip(' ')\n",
        "trainraw['Title'] = trainraw['Title'].replace(dict.fromkeys(['MISS', 'MLLE', 'LADY', 'MME'], 'MS'), regex=True).str. strip(' ')\n",
        "trainraw['Title'] = trainraw['Title'].replace(dict.fromkeys(['DR', 'REV', 'MAJOR', 'COL', 'THE COUNTESS', 'JONKHEER', 'CAPT'], 'RANKED'), regex=True).str. strip(' ')"
      ],
      "execution_count": 434,
      "outputs": []
    },
    {
      "cell_type": "code",
      "metadata": {
        "colab": {
          "base_uri": "https://localhost:8080/"
        },
        "id": "C69MqA5Fzfk8",
        "outputId": "fc267bab-e42b-4057-cbf9-1bce86337d2e"
      },
      "source": [
        "# mean age by age group\n",
        "master = round(trainraw[trainraw['Title']=='MASTER']['Age'].mean(),2)\n",
        "mr = round(trainraw[trainraw['Title']=='MR']['Age'].mean(),2)\n",
        "mrs = round(trainraw[trainraw['Title']=='MRS']['Age'].mean(),2)\n",
        "ms = round(trainraw[trainraw['Title']=='MS']['Age'].mean(),2)\n",
        "ranked = round(trainraw[trainraw['Title']=='RANKED']['Age'].mean(),2)\n",
        "print('mean age of (master/ mr/ mrs/ ms/ ranked):', master, mr, mrs, ms, ranked)"
      ],
      "execution_count": 435,
      "outputs": [
        {
          "output_type": "stream",
          "text": [
            "mean age of (master/ mr/ mrs/ ms/ ranked): 4.57 32.43 35.9 22.03 45.53\n"
          ],
          "name": "stdout"
        }
      ]
    },
    {
      "cell_type": "code",
      "metadata": {
        "id": "yMuajOyEObiO"
      },
      "source": [
        "# fillna by group's mean age\n",
        "trainraw.loc[trainraw['Title'] == 'MASTER', 'Age'] = trainraw.loc[trainraw['Title'] == 'MASTER', 'Age'].fillna(master)\n",
        "trainraw.loc[trainraw['Title'] == 'MR', 'Age'] = trainraw.loc[trainraw['Title'] == 'MR', 'Age'].fillna(mr)\n",
        "trainraw.loc[trainraw['Title'] == 'MS', 'Age'] = trainraw.loc[trainraw['Title'] == 'MS', 'Age'].fillna(ms)\n",
        "trainraw.loc[trainraw['Title'] == 'MRS', 'Age'] = trainraw.loc[trainraw['Title'] == 'MRS', 'Age'].fillna(mrs)\n",
        "trainraw.loc[trainraw['Title'] == 'RANKED', 'Age'] = trainraw.loc[trainraw['Title'] == 'RANKED', 'Age'].fillna(ranked)"
      ],
      "execution_count": 436,
      "outputs": []
    },
    {
      "cell_type": "code",
      "metadata": {
        "colab": {
          "base_uri": "https://localhost:8080/"
        },
        "id": "VUx4omDrRgx7",
        "outputId": "d290580e-13af-44d3-a6fe-d45ea0d115b9"
      },
      "source": [
        "# examining the data type of the train set\n",
        "trainraw.info()"
      ],
      "execution_count": 437,
      "outputs": [
        {
          "output_type": "stream",
          "text": [
            "<class 'pandas.core.frame.DataFrame'>\n",
            "RangeIndex: 891 entries, 0 to 890\n",
            "Data columns (total 13 columns):\n",
            " #   Column       Non-Null Count  Dtype  \n",
            "---  ------       --------------  -----  \n",
            " 0   PassengerId  891 non-null    int64  \n",
            " 1   Survived     891 non-null    int64  \n",
            " 2   Pclass       891 non-null    int64  \n",
            " 3   Sex          891 non-null    int64  \n",
            " 4   Age          891 non-null    float64\n",
            " 5   SibSp        891 non-null    int64  \n",
            " 6   Parch        891 non-null    int64  \n",
            " 7   Ticket       891 non-null    object \n",
            " 8   Fare         891 non-null    float64\n",
            " 9   Embarked     891 non-null    object \n",
            " 10  Last Name    891 non-null    object \n",
            " 11  Title        891 non-null    object \n",
            " 12  First Name   891 non-null    object \n",
            "dtypes: float64(2), int64(6), object(5)\n",
            "memory usage: 90.6+ KB\n"
          ],
          "name": "stdout"
        }
      ]
    },
    {
      "cell_type": "markdown",
      "metadata": {
        "id": "qhqnTMNjS4B-"
      },
      "source": [
        "**3) Pre-Processing & Feature Engineering**"
      ]
    },
    {
      "cell_type": "markdown",
      "metadata": {
        "id": "FGiDLSJASQ67"
      },
      "source": [
        "Further steps is required before model building: <br>\n",
        "*   Remove unique identifiers (passenger id, first name, last name, ticket)\n",
        "*   One hot code important categorical data\n",
        "*   Additional feature engineering\n",
        "*   Train/ Test Split\n",
        "\n",
        "\n",
        "\n",
        "\n",
        "\n"
      ]
    },
    {
      "cell_type": "code",
      "metadata": {
        "colab": {
          "base_uri": "https://localhost:8080/",
          "height": 112
        },
        "id": "skw4HzzeTNA0",
        "outputId": "f44321e7-5a40-42a7-f922-5fdc45374b15"
      },
      "source": [
        "trainraw.head(2)"
      ],
      "execution_count": 438,
      "outputs": [
        {
          "output_type": "execute_result",
          "data": {
            "text/html": [
              "<div>\n",
              "<style scoped>\n",
              "    .dataframe tbody tr th:only-of-type {\n",
              "        vertical-align: middle;\n",
              "    }\n",
              "\n",
              "    .dataframe tbody tr th {\n",
              "        vertical-align: top;\n",
              "    }\n",
              "\n",
              "    .dataframe thead th {\n",
              "        text-align: right;\n",
              "    }\n",
              "</style>\n",
              "<table border=\"1\" class=\"dataframe\">\n",
              "  <thead>\n",
              "    <tr style=\"text-align: right;\">\n",
              "      <th></th>\n",
              "      <th>PassengerId</th>\n",
              "      <th>Survived</th>\n",
              "      <th>Pclass</th>\n",
              "      <th>Sex</th>\n",
              "      <th>Age</th>\n",
              "      <th>SibSp</th>\n",
              "      <th>Parch</th>\n",
              "      <th>Ticket</th>\n",
              "      <th>Fare</th>\n",
              "      <th>Embarked</th>\n",
              "      <th>Last Name</th>\n",
              "      <th>Title</th>\n",
              "      <th>First Name</th>\n",
              "    </tr>\n",
              "  </thead>\n",
              "  <tbody>\n",
              "    <tr>\n",
              "      <th>0</th>\n",
              "      <td>1</td>\n",
              "      <td>0</td>\n",
              "      <td>3</td>\n",
              "      <td>0</td>\n",
              "      <td>22.0</td>\n",
              "      <td>1</td>\n",
              "      <td>0</td>\n",
              "      <td>A/5 21171</td>\n",
              "      <td>7.2500</td>\n",
              "      <td>S</td>\n",
              "      <td>BRAUND</td>\n",
              "      <td>MR</td>\n",
              "      <td>OWEN HARRIS</td>\n",
              "    </tr>\n",
              "    <tr>\n",
              "      <th>1</th>\n",
              "      <td>2</td>\n",
              "      <td>1</td>\n",
              "      <td>1</td>\n",
              "      <td>1</td>\n",
              "      <td>38.0</td>\n",
              "      <td>1</td>\n",
              "      <td>0</td>\n",
              "      <td>PC 17599</td>\n",
              "      <td>71.2833</td>\n",
              "      <td>C</td>\n",
              "      <td>CUMINGS</td>\n",
              "      <td>MRS</td>\n",
              "      <td>JOHN BRADLEY (FLORENCE BRIGGS THAYER)</td>\n",
              "    </tr>\n",
              "  </tbody>\n",
              "</table>\n",
              "</div>"
            ],
            "text/plain": [
              "   PassengerId  Survived  ...  Title                              First Name\n",
              "0            1         0  ...     MR                             OWEN HARRIS\n",
              "1            2         1  ...    MRS   JOHN BRADLEY (FLORENCE BRIGGS THAYER)\n",
              "\n",
              "[2 rows x 13 columns]"
            ]
          },
          "metadata": {
            "tags": []
          },
          "execution_count": 438
        }
      ]
    },
    {
      "cell_type": "code",
      "metadata": {
        "id": "2TKS7HNJS03V"
      },
      "source": [
        "# removing unique identifier columns\n",
        "dropcolumns = ['PassengerId', 'Ticket', 'Last Name', 'First Name']\n",
        "trainraw = trainraw.drop(dropcolumns, axis=1)"
      ],
      "execution_count": 439,
      "outputs": []
    },
    {
      "cell_type": "code",
      "metadata": {
        "colab": {
          "base_uri": "https://localhost:8080/",
          "height": 226
        },
        "id": "YvoUKFjwTbjy",
        "outputId": "bf3a4321-0d68-4937-a5a0-384bbcfc0e77"
      },
      "source": [
        "# one-hot-coding categorical data which will facilitate modelling\n",
        "codedcolumns = ['Pclass', 'Embarked', 'Title']\n",
        "df = pd.get_dummies(trainraw, columns = codedcolumns)\n",
        "df.head()"
      ],
      "execution_count": 440,
      "outputs": [
        {
          "output_type": "execute_result",
          "data": {
            "text/html": [
              "<div>\n",
              "<style scoped>\n",
              "    .dataframe tbody tr th:only-of-type {\n",
              "        vertical-align: middle;\n",
              "    }\n",
              "\n",
              "    .dataframe tbody tr th {\n",
              "        vertical-align: top;\n",
              "    }\n",
              "\n",
              "    .dataframe thead th {\n",
              "        text-align: right;\n",
              "    }\n",
              "</style>\n",
              "<table border=\"1\" class=\"dataframe\">\n",
              "  <thead>\n",
              "    <tr style=\"text-align: right;\">\n",
              "      <th></th>\n",
              "      <th>Survived</th>\n",
              "      <th>Sex</th>\n",
              "      <th>Age</th>\n",
              "      <th>SibSp</th>\n",
              "      <th>Parch</th>\n",
              "      <th>Fare</th>\n",
              "      <th>Pclass_1</th>\n",
              "      <th>Pclass_2</th>\n",
              "      <th>Pclass_3</th>\n",
              "      <th>Embarked_C</th>\n",
              "      <th>Embarked_Q</th>\n",
              "      <th>Embarked_S</th>\n",
              "      <th>Title_MASTER</th>\n",
              "      <th>Title_MR</th>\n",
              "      <th>Title_MRS</th>\n",
              "      <th>Title_MS</th>\n",
              "      <th>Title_RANKED</th>\n",
              "    </tr>\n",
              "  </thead>\n",
              "  <tbody>\n",
              "    <tr>\n",
              "      <th>0</th>\n",
              "      <td>0</td>\n",
              "      <td>0</td>\n",
              "      <td>22.0</td>\n",
              "      <td>1</td>\n",
              "      <td>0</td>\n",
              "      <td>7.2500</td>\n",
              "      <td>0</td>\n",
              "      <td>0</td>\n",
              "      <td>1</td>\n",
              "      <td>0</td>\n",
              "      <td>0</td>\n",
              "      <td>1</td>\n",
              "      <td>0</td>\n",
              "      <td>1</td>\n",
              "      <td>0</td>\n",
              "      <td>0</td>\n",
              "      <td>0</td>\n",
              "    </tr>\n",
              "    <tr>\n",
              "      <th>1</th>\n",
              "      <td>1</td>\n",
              "      <td>1</td>\n",
              "      <td>38.0</td>\n",
              "      <td>1</td>\n",
              "      <td>0</td>\n",
              "      <td>71.2833</td>\n",
              "      <td>1</td>\n",
              "      <td>0</td>\n",
              "      <td>0</td>\n",
              "      <td>1</td>\n",
              "      <td>0</td>\n",
              "      <td>0</td>\n",
              "      <td>0</td>\n",
              "      <td>0</td>\n",
              "      <td>1</td>\n",
              "      <td>0</td>\n",
              "      <td>0</td>\n",
              "    </tr>\n",
              "    <tr>\n",
              "      <th>2</th>\n",
              "      <td>1</td>\n",
              "      <td>1</td>\n",
              "      <td>26.0</td>\n",
              "      <td>0</td>\n",
              "      <td>0</td>\n",
              "      <td>7.9250</td>\n",
              "      <td>0</td>\n",
              "      <td>0</td>\n",
              "      <td>1</td>\n",
              "      <td>0</td>\n",
              "      <td>0</td>\n",
              "      <td>1</td>\n",
              "      <td>0</td>\n",
              "      <td>0</td>\n",
              "      <td>0</td>\n",
              "      <td>1</td>\n",
              "      <td>0</td>\n",
              "    </tr>\n",
              "    <tr>\n",
              "      <th>3</th>\n",
              "      <td>1</td>\n",
              "      <td>1</td>\n",
              "      <td>35.0</td>\n",
              "      <td>1</td>\n",
              "      <td>0</td>\n",
              "      <td>53.1000</td>\n",
              "      <td>1</td>\n",
              "      <td>0</td>\n",
              "      <td>0</td>\n",
              "      <td>0</td>\n",
              "      <td>0</td>\n",
              "      <td>1</td>\n",
              "      <td>0</td>\n",
              "      <td>0</td>\n",
              "      <td>1</td>\n",
              "      <td>0</td>\n",
              "      <td>0</td>\n",
              "    </tr>\n",
              "    <tr>\n",
              "      <th>4</th>\n",
              "      <td>0</td>\n",
              "      <td>0</td>\n",
              "      <td>35.0</td>\n",
              "      <td>0</td>\n",
              "      <td>0</td>\n",
              "      <td>8.0500</td>\n",
              "      <td>0</td>\n",
              "      <td>0</td>\n",
              "      <td>1</td>\n",
              "      <td>0</td>\n",
              "      <td>0</td>\n",
              "      <td>1</td>\n",
              "      <td>0</td>\n",
              "      <td>1</td>\n",
              "      <td>0</td>\n",
              "      <td>0</td>\n",
              "      <td>0</td>\n",
              "    </tr>\n",
              "  </tbody>\n",
              "</table>\n",
              "</div>"
            ],
            "text/plain": [
              "   Survived  Sex   Age  SibSp  ...  Title_MR  Title_MRS  Title_MS  Title_RANKED\n",
              "0         0    0  22.0      1  ...         1          0         0             0\n",
              "1         1    1  38.0      1  ...         0          1         0             0\n",
              "2         1    1  26.0      0  ...         0          0         1             0\n",
              "3         1    1  35.0      1  ...         0          1         0             0\n",
              "4         0    0  35.0      0  ...         1          0         0             0\n",
              "\n",
              "[5 rows x 17 columns]"
            ]
          },
          "metadata": {
            "tags": []
          },
          "execution_count": 440
        }
      ]
    },
    {
      "cell_type": "code",
      "metadata": {
        "id": "baSZ23PIGqD0"
      },
      "source": [
        "import statsmodels.api as sm\n",
        "from statsmodels.stats.outliers_influence import variance_inflation_factor\n",
        "import pandas.core.algorithms as algos\n",
        "from pandas import Series\n",
        "import scipy.stats.stats as stats\n",
        "import re\n",
        "import traceback\n",
        "import string"
      ],
      "execution_count": 441,
      "outputs": []
    },
    {
      "cell_type": "code",
      "metadata": {
        "colab": {
          "base_uri": "https://localhost:8080/"
        },
        "id": "q7R0xHT2HDue",
        "outputId": "ea612a97-0d99-452f-bb4c-5b114ce077c3"
      },
      "source": [
        "def iterate_vif(df, vif_threshold=5, max_vif=6):\n",
        "  count = 0\n",
        "  while max_vif > vif_threshold:\n",
        "    count += 1\n",
        "    print(\"Iteration # \"+str(count))\n",
        "    vif = pd.DataFrame()\n",
        "    vif[\"VIFactor\"] = [variance_inflation_factor(df.values, i) for i in range(df.shape[1])]\n",
        "    vif[\"features\"] = df.columns\n",
        "\n",
        "    if vif['VIFactor'].max() > vif_threshold:\n",
        "      print('Removing %s with VIF of %f' % (vif[vif['VIFactor'] == vif['VIFactor'].max()]['features'].values[0], vif['VIFactor'].max()))\n",
        "      df = df.drop(vif[vif['VIFactor'] == vif['VIFactor'].max()]['features'].values[0], axis=1)\n",
        "      max_vif = vif['VIFactor'].max()\n",
        "    else:\n",
        "      print('Complete')\n",
        "      return df, vif.sort_values('VIFactor')\n",
        "\n",
        "final_df, final_vif = iterate_vif(X_train)"
      ],
      "execution_count": 442,
      "outputs": [
        {
          "output_type": "stream",
          "text": [
            "Iteration # 1\n",
            "Removing Age with VIF of 5.216249\n",
            "Iteration # 2\n",
            "Complete\n"
          ],
          "name": "stdout"
        }
      ]
    },
    {
      "cell_type": "code",
      "metadata": {
        "colab": {
          "base_uri": "https://localhost:8080/",
          "height": 206
        },
        "id": "gDtEvDIaHQnM",
        "outputId": "de01a951-43e8-4163-a298-0ca3f89706b6"
      },
      "source": [
        "final_df.head()"
      ],
      "execution_count": 443,
      "outputs": [
        {
          "output_type": "execute_result",
          "data": {
            "text/html": [
              "<div>\n",
              "<style scoped>\n",
              "    .dataframe tbody tr th:only-of-type {\n",
              "        vertical-align: middle;\n",
              "    }\n",
              "\n",
              "    .dataframe tbody tr th {\n",
              "        vertical-align: top;\n",
              "    }\n",
              "\n",
              "    .dataframe thead th {\n",
              "        text-align: right;\n",
              "    }\n",
              "</style>\n",
              "<table border=\"1\" class=\"dataframe\">\n",
              "  <thead>\n",
              "    <tr style=\"text-align: right;\">\n",
              "      <th></th>\n",
              "      <th>SibSp</th>\n",
              "      <th>Parch</th>\n",
              "      <th>Fare</th>\n",
              "      <th>Pclass_2</th>\n",
              "      <th>Pclass_3</th>\n",
              "      <th>Embarked_Q</th>\n",
              "      <th>Embarked_S</th>\n",
              "      <th>Title_MASTER</th>\n",
              "      <th>Title_MRS</th>\n",
              "      <th>Title_MS</th>\n",
              "      <th>Title_RANKED</th>\n",
              "    </tr>\n",
              "  </thead>\n",
              "  <tbody>\n",
              "    <tr>\n",
              "      <th>324</th>\n",
              "      <td>8</td>\n",
              "      <td>2</td>\n",
              "      <td>69.550</td>\n",
              "      <td>0</td>\n",
              "      <td>1</td>\n",
              "      <td>0</td>\n",
              "      <td>1</td>\n",
              "      <td>0</td>\n",
              "      <td>0</td>\n",
              "      <td>0</td>\n",
              "      <td>0</td>\n",
              "    </tr>\n",
              "    <tr>\n",
              "      <th>518</th>\n",
              "      <td>1</td>\n",
              "      <td>0</td>\n",
              "      <td>26.000</td>\n",
              "      <td>1</td>\n",
              "      <td>0</td>\n",
              "      <td>0</td>\n",
              "      <td>1</td>\n",
              "      <td>0</td>\n",
              "      <td>1</td>\n",
              "      <td>0</td>\n",
              "      <td>0</td>\n",
              "    </tr>\n",
              "    <tr>\n",
              "      <th>131</th>\n",
              "      <td>0</td>\n",
              "      <td>0</td>\n",
              "      <td>7.050</td>\n",
              "      <td>0</td>\n",
              "      <td>1</td>\n",
              "      <td>0</td>\n",
              "      <td>1</td>\n",
              "      <td>0</td>\n",
              "      <td>0</td>\n",
              "      <td>0</td>\n",
              "      <td>0</td>\n",
              "    </tr>\n",
              "    <tr>\n",
              "      <th>178</th>\n",
              "      <td>0</td>\n",
              "      <td>0</td>\n",
              "      <td>13.000</td>\n",
              "      <td>1</td>\n",
              "      <td>0</td>\n",
              "      <td>0</td>\n",
              "      <td>1</td>\n",
              "      <td>0</td>\n",
              "      <td>0</td>\n",
              "      <td>0</td>\n",
              "      <td>0</td>\n",
              "    </tr>\n",
              "    <tr>\n",
              "      <th>354</th>\n",
              "      <td>0</td>\n",
              "      <td>0</td>\n",
              "      <td>7.225</td>\n",
              "      <td>0</td>\n",
              "      <td>1</td>\n",
              "      <td>0</td>\n",
              "      <td>0</td>\n",
              "      <td>0</td>\n",
              "      <td>0</td>\n",
              "      <td>0</td>\n",
              "      <td>0</td>\n",
              "    </tr>\n",
              "  </tbody>\n",
              "</table>\n",
              "</div>"
            ],
            "text/plain": [
              "     SibSp  Parch    Fare  ...  Title_MRS  Title_MS  Title_RANKED\n",
              "324      8      2  69.550  ...          0         0             0\n",
              "518      1      0  26.000  ...          1         0             0\n",
              "131      0      0   7.050  ...          0         0             0\n",
              "178      0      0  13.000  ...          0         0             0\n",
              "354      0      0   7.225  ...          0         0             0\n",
              "\n",
              "[5 rows x 11 columns]"
            ]
          },
          "metadata": {
            "tags": []
          },
          "execution_count": 443
        }
      ]
    },
    {
      "cell_type": "code",
      "metadata": {
        "colab": {
          "base_uri": "https://localhost:8080/",
          "height": 394
        },
        "id": "MKhXAPY9HTPu",
        "outputId": "ce03dcd5-ec0b-46b9-88e9-6f7ae4b9907f"
      },
      "source": [
        "final_vif.sort_values(by='VIFactor', ascending=False)"
      ],
      "execution_count": 444,
      "outputs": [
        {
          "output_type": "execute_result",
          "data": {
            "text/html": [
              "<div>\n",
              "<style scoped>\n",
              "    .dataframe tbody tr th:only-of-type {\n",
              "        vertical-align: middle;\n",
              "    }\n",
              "\n",
              "    .dataframe tbody tr th {\n",
              "        vertical-align: top;\n",
              "    }\n",
              "\n",
              "    .dataframe thead th {\n",
              "        text-align: right;\n",
              "    }\n",
              "</style>\n",
              "<table border=\"1\" class=\"dataframe\">\n",
              "  <thead>\n",
              "    <tr style=\"text-align: right;\">\n",
              "      <th></th>\n",
              "      <th>VIFactor</th>\n",
              "      <th>features</th>\n",
              "    </tr>\n",
              "  </thead>\n",
              "  <tbody>\n",
              "    <tr>\n",
              "      <th>6</th>\n",
              "      <td>3.806781</td>\n",
              "      <td>Embarked_S</td>\n",
              "    </tr>\n",
              "    <tr>\n",
              "      <th>4</th>\n",
              "      <td>3.234653</td>\n",
              "      <td>Pclass_3</td>\n",
              "    </tr>\n",
              "    <tr>\n",
              "      <th>3</th>\n",
              "      <td>1.840784</td>\n",
              "      <td>Pclass_2</td>\n",
              "    </tr>\n",
              "    <tr>\n",
              "      <th>0</th>\n",
              "      <td>1.698009</td>\n",
              "      <td>SibSp</td>\n",
              "    </tr>\n",
              "    <tr>\n",
              "      <th>1</th>\n",
              "      <td>1.673840</td>\n",
              "      <td>Parch</td>\n",
              "    </tr>\n",
              "    <tr>\n",
              "      <th>5</th>\n",
              "      <td>1.539756</td>\n",
              "      <td>Embarked_Q</td>\n",
              "    </tr>\n",
              "    <tr>\n",
              "      <th>2</th>\n",
              "      <td>1.469724</td>\n",
              "      <td>Fare</td>\n",
              "    </tr>\n",
              "    <tr>\n",
              "      <th>9</th>\n",
              "      <td>1.443519</td>\n",
              "      <td>Title_MS</td>\n",
              "    </tr>\n",
              "    <tr>\n",
              "      <th>7</th>\n",
              "      <td>1.375477</td>\n",
              "      <td>Title_MASTER</td>\n",
              "    </tr>\n",
              "    <tr>\n",
              "      <th>8</th>\n",
              "      <td>1.359715</td>\n",
              "      <td>Title_MRS</td>\n",
              "    </tr>\n",
              "    <tr>\n",
              "      <th>10</th>\n",
              "      <td>1.067692</td>\n",
              "      <td>Title_RANKED</td>\n",
              "    </tr>\n",
              "  </tbody>\n",
              "</table>\n",
              "</div>"
            ],
            "text/plain": [
              "    VIFactor      features\n",
              "6   3.806781    Embarked_S\n",
              "4   3.234653      Pclass_3\n",
              "3   1.840784      Pclass_2\n",
              "0   1.698009         SibSp\n",
              "1   1.673840         Parch\n",
              "5   1.539756    Embarked_Q\n",
              "2   1.469724          Fare\n",
              "9   1.443519      Title_MS\n",
              "7   1.375477  Title_MASTER\n",
              "8   1.359715     Title_MRS\n",
              "10  1.067692  Title_RANKED"
            ]
          },
          "metadata": {
            "tags": []
          },
          "execution_count": 444
        }
      ]
    },
    {
      "cell_type": "markdown",
      "metadata": {
        "id": "PJw_p6NU3TPR"
      },
      "source": [
        "Building a Train Test Split"
      ]
    },
    {
      "cell_type": "code",
      "metadata": {
        "id": "xSBqsATaHZYY"
      },
      "source": [
        "final_features = final_df.columns.tolist()"
      ],
      "execution_count": 445,
      "outputs": []
    },
    {
      "cell_type": "code",
      "metadata": {
        "id": "VIfKAY3I3SiL"
      },
      "source": [
        "X = df[final_features]\n",
        "y = df['Survived']"
      ],
      "execution_count": 446,
      "outputs": []
    },
    {
      "cell_type": "code",
      "metadata": {
        "id": "7fp404403IfP"
      },
      "source": [
        "#building a train test split\n",
        "X_train, X_test, y_train, y_test=train_test_split(X, y, test_size=0.25)"
      ],
      "execution_count": 447,
      "outputs": []
    },
    {
      "cell_type": "markdown",
      "metadata": {
        "id": "Von_V82lXBru"
      },
      "source": [
        "**4) Modelling**"
      ]
    },
    {
      "cell_type": "markdown",
      "metadata": {
        "id": "-hccrtxn3jfu"
      },
      "source": [
        "4.1) Logistic Regression"
      ]
    },
    {
      "cell_type": "code",
      "metadata": {
        "id": "-NlqWr04W-1f"
      },
      "source": [
        "# build the model\n",
        "lr = LogisticRegression(solver='lbfgs', max_iter=1000)\n",
        "lr_model = lr.fit(X_train, y_train)\n",
        "y_pred = lr.predict(X_test)"
      ],
      "execution_count": 448,
      "outputs": []
    },
    {
      "cell_type": "code",
      "metadata": {
        "colab": {
          "base_uri": "https://localhost:8080/"
        },
        "id": "vOtgVgCAXA6W",
        "outputId": "8d6e64f1-8576-4908-c261-e7a17b9a06a7"
      },
      "source": [
        "# getting the scores\n",
        "lr_acc = accuracy_score(y_test, y_pred)\n",
        "lr_roc = roc_auc_score(y_test, y_pred)\n",
        "lr_per = precision_score(y_test, y_pred, average='binary')\n",
        "\n",
        "print('Accuracy score:', lr_acc)\n",
        "print('ROC score:', lr_roc)\n",
        "print('Precision score:', lr_per)"
      ],
      "execution_count": 449,
      "outputs": [
        {
          "output_type": "stream",
          "text": [
            "Accuracy score: 0.7937219730941704\n",
            "ROC score: 0.7821637426900584\n",
            "Precision score: 0.7558139534883721\n"
          ],
          "name": "stdout"
        }
      ]
    },
    {
      "cell_type": "markdown",
      "metadata": {
        "id": "gxxce5GK3pja"
      },
      "source": [
        "4.2) XGBoost Regressor"
      ]
    },
    {
      "cell_type": "code",
      "metadata": {
        "id": "Zv99_FRv3pKZ"
      },
      "source": [
        "# build the model\n",
        "xgb = XGBClassifier()\n",
        "xgb_model = xgb.fit(X_train, y_train)\n",
        "y_pred = xgb_model.predict(X_test)"
      ],
      "execution_count": 450,
      "outputs": []
    },
    {
      "cell_type": "code",
      "metadata": {
        "colab": {
          "base_uri": "https://localhost:8080/"
        },
        "id": "AweWYl9N3tl4",
        "outputId": "cdd4bd70-121f-49af-da31-69b73300826e"
      },
      "source": [
        "# getting the scores\n",
        "xgbacc = accuracy_score(y_test, y_pred)\n",
        "xgb_roc = roc_auc_score(y_test, y_pred)\n",
        "xgb_per = precision_score(y_test, y_pred, average='binary')\n",
        "\n",
        "print('Accuracy score:', xgbacc)\n",
        "print('ROC score:', xgb_roc)\n",
        "print('Precision score:', xgb_per)"
      ],
      "execution_count": 451,
      "outputs": [
        {
          "output_type": "stream",
          "text": [
            "Accuracy score: 0.7802690582959642\n",
            "ROC score: 0.7637009189640769\n",
            "Precision score: 0.7530864197530864\n"
          ],
          "name": "stdout"
        }
      ]
    },
    {
      "cell_type": "markdown",
      "metadata": {
        "id": "_Dj4gvX27SEH"
      },
      "source": [
        "**5) Model Evaluation & Optimization**"
      ]
    },
    {
      "cell_type": "code",
      "metadata": {
        "colab": {
          "base_uri": "https://localhost:8080/",
          "height": 143
        },
        "id": "7u3kETZf7V5Y",
        "outputId": "bc592f1c-d4f1-4a98-834f-5cb534938bdb"
      },
      "source": [
        "model_comp = pd.DataFrame({'Metrics/ Model': ['Accuracy Score (Test data)', 'ROC Score', 'Precision Score'],\n",
        "                           'Logistic Regression': [lr_acc, lr_roc, lr_per],\n",
        "                           'XGBoost': [xgbacc, xgb_roc, xgb_per],\n",
        "                          }).round(3)\n",
        "model_comp"
      ],
      "execution_count": 452,
      "outputs": [
        {
          "output_type": "execute_result",
          "data": {
            "text/html": [
              "<div>\n",
              "<style scoped>\n",
              "    .dataframe tbody tr th:only-of-type {\n",
              "        vertical-align: middle;\n",
              "    }\n",
              "\n",
              "    .dataframe tbody tr th {\n",
              "        vertical-align: top;\n",
              "    }\n",
              "\n",
              "    .dataframe thead th {\n",
              "        text-align: right;\n",
              "    }\n",
              "</style>\n",
              "<table border=\"1\" class=\"dataframe\">\n",
              "  <thead>\n",
              "    <tr style=\"text-align: right;\">\n",
              "      <th></th>\n",
              "      <th>Metrics/ Model</th>\n",
              "      <th>Logistic Regression</th>\n",
              "      <th>XGBoost</th>\n",
              "    </tr>\n",
              "  </thead>\n",
              "  <tbody>\n",
              "    <tr>\n",
              "      <th>0</th>\n",
              "      <td>Accuracy Score (Test data)</td>\n",
              "      <td>0.794</td>\n",
              "      <td>0.780</td>\n",
              "    </tr>\n",
              "    <tr>\n",
              "      <th>1</th>\n",
              "      <td>ROC Score</td>\n",
              "      <td>0.782</td>\n",
              "      <td>0.764</td>\n",
              "    </tr>\n",
              "    <tr>\n",
              "      <th>2</th>\n",
              "      <td>Precision Score</td>\n",
              "      <td>0.756</td>\n",
              "      <td>0.753</td>\n",
              "    </tr>\n",
              "  </tbody>\n",
              "</table>\n",
              "</div>"
            ],
            "text/plain": [
              "               Metrics/ Model  Logistic Regression  XGBoost\n",
              "0  Accuracy Score (Test data)                0.794    0.780\n",
              "1                   ROC Score                0.782    0.764\n",
              "2             Precision Score                0.756    0.753"
            ]
          },
          "metadata": {
            "tags": []
          },
          "execution_count": 452
        }
      ]
    },
    {
      "cell_type": "code",
      "metadata": {
        "colab": {
          "base_uri": "https://localhost:8080/"
        },
        "id": "fhQqtIF06VB3",
        "outputId": "3e166702-5e59-44f0-ed83-7ea7889ee875"
      },
      "source": [
        "#cross validation\n",
        "cross_val_accuracy = cross_val_score(lr_model, X, y, scoring='accuracy', cv=5)\n",
        "print('Accuracy of the model with cross-validation is: ', (np.mean(cross_val_accuracy)*100).round(2),'%')"
      ],
      "execution_count": 453,
      "outputs": [
        {
          "output_type": "stream",
          "text": [
            "Accuracy of the model with cross-validation is:  81.48 %\n"
          ],
          "name": "stdout"
        }
      ]
    },
    {
      "cell_type": "code",
      "metadata": {
        "colab": {
          "base_uri": "https://localhost:8080/"
        },
        "id": "1kK_LLq6H5J5",
        "outputId": "c7565db1-e700-4a83-ce15-7ecf9a2162fb"
      },
      "source": [
        "lr_model"
      ],
      "execution_count": 454,
      "outputs": [
        {
          "output_type": "execute_result",
          "data": {
            "text/plain": [
              "LogisticRegression(C=1.0, class_weight=None, dual=False, fit_intercept=True,\n",
              "                   intercept_scaling=1, l1_ratio=None, max_iter=1000,\n",
              "                   multi_class='auto', n_jobs=None, penalty='l2',\n",
              "                   random_state=None, solver='lbfgs', tol=0.0001, verbose=0,\n",
              "                   warm_start=False)"
            ]
          },
          "metadata": {
            "tags": []
          },
          "execution_count": 454
        }
      ]
    },
    {
      "cell_type": "code",
      "metadata": {
        "colab": {
          "base_uri": "https://localhost:8080/"
        },
        "id": "mp4ilNfq7VZt",
        "outputId": "d9b0dc5c-2a23-4bfa-ea73-a01acdf8d63f"
      },
      "source": [
        "# the same parameters as for xgboost model\n",
        "params_lr1 = {'C': 1.0, \n",
        "            'verbose': 0,\n",
        "            'max_iter': 1000,\n",
        "              }     \n",
        "lr1 = LogisticRegression(**params_lr1)\n",
        "lr1.fit(X_train, y_train)"
      ],
      "execution_count": 455,
      "outputs": [
        {
          "output_type": "execute_result",
          "data": {
            "text/plain": [
              "LogisticRegression(C=1.0, class_weight=None, dual=False, fit_intercept=True,\n",
              "                   intercept_scaling=1, l1_ratio=None, max_iter=1000,\n",
              "                   multi_class='auto', n_jobs=None, penalty='l2',\n",
              "                   random_state=None, solver='lbfgs', tol=0.0001, verbose=0,\n",
              "                   warm_start=False)"
            ]
          },
          "metadata": {
            "tags": []
          },
          "execution_count": 455
        }
      ]
    },
    {
      "cell_type": "code",
      "metadata": {
        "colab": {
          "base_uri": "https://localhost:8080/"
        },
        "id": "UM_79pI88jsm",
        "outputId": "8eee98b3-c160-4fdc-c04b-02091177fdf9"
      },
      "source": [
        "params_grid = {  \n",
        "    'penalty' : ['l1', 'l2'],\n",
        "    'intercept_scaling': [1, 5, 10],\n",
        "              }\n",
        "\n",
        "search_lr1 = GridSearchCV(lr1, params_grid, cv = 3, verbose=True, n_jobs=-1) \n",
        "search_lr1.fit(X_train, y_train)"
      ],
      "execution_count": 456,
      "outputs": [
        {
          "output_type": "stream",
          "text": [
            "Fitting 3 folds for each of 6 candidates, totalling 18 fits\n"
          ],
          "name": "stdout"
        },
        {
          "output_type": "stream",
          "text": [
            "[Parallel(n_jobs=-1)]: Using backend LokyBackend with 2 concurrent workers.\n",
            "[Parallel(n_jobs=-1)]: Done  18 out of  18 | elapsed:    1.4s finished\n"
          ],
          "name": "stderr"
        },
        {
          "output_type": "execute_result",
          "data": {
            "text/plain": [
              "GridSearchCV(cv=3, error_score=nan,\n",
              "             estimator=LogisticRegression(C=1.0, class_weight=None, dual=False,\n",
              "                                          fit_intercept=True,\n",
              "                                          intercept_scaling=1, l1_ratio=None,\n",
              "                                          max_iter=1000, multi_class='auto',\n",
              "                                          n_jobs=None, penalty='l2',\n",
              "                                          random_state=None, solver='lbfgs',\n",
              "                                          tol=0.0001, verbose=0,\n",
              "                                          warm_start=False),\n",
              "             iid='deprecated', n_jobs=-1,\n",
              "             param_grid={'intercept_scaling': [1, 5, 10],\n",
              "                         'penalty': ['l1', 'l2']},\n",
              "             pre_dispatch='2*n_jobs', refit=True, return_train_score=False,\n",
              "             scoring=None, verbose=True)"
            ]
          },
          "metadata": {
            "tags": []
          },
          "execution_count": 456
        }
      ]
    },
    {
      "cell_type": "code",
      "metadata": {
        "id": "hZtZ7PXD9bO_"
      },
      "source": [
        "# build the model\n",
        "lr1 = LogisticRegression(solver='lbfgs', max_iter=1000, penalty='l2')\n",
        "lr1_model = lr1.fit(X_train, y_train)\n",
        "y_pred = lr1.predict(X_test)"
      ],
      "execution_count": 457,
      "outputs": []
    },
    {
      "cell_type": "code",
      "metadata": {
        "colab": {
          "base_uri": "https://localhost:8080/"
        },
        "id": "sT6YKrIH9kWE",
        "outputId": "5d4e56d2-57a9-4b5e-bdf7-b71269eb04c8"
      },
      "source": [
        "# getting the scores\n",
        "lr_acc1 = accuracy_score(y_test, y_pred)\n",
        "lr_roc1 = roc_auc_score(y_test, y_pred)\n",
        "lr_per1 = precision_score(y_test, y_pred, average='binary')\n",
        "\n",
        "print('Accuracy score:', lr_acc1)\n",
        "print('ROC score:', lr_roc1)\n",
        "print('Precision score:', lr_per1)"
      ],
      "execution_count": 458,
      "outputs": [
        {
          "output_type": "stream",
          "text": [
            "Accuracy score: 0.7937219730941704\n",
            "ROC score: 0.7821637426900584\n",
            "Precision score: 0.7558139534883721\n"
          ],
          "name": "stdout"
        }
      ]
    },
    {
      "cell_type": "code",
      "metadata": {
        "colab": {
          "base_uri": "https://localhost:8080/"
        },
        "id": "CfF0tIS99qnX",
        "outputId": "70149788-68c1-4e51-8178-49aeb887d4bf"
      },
      "source": [
        "#cross validation\n",
        "cross_val_accuracy = cross_val_score(lr1_model, X, y, scoring='accuracy', cv=5)\n",
        "print('Accuracy of the optimized model with cross-validation is: ', (np.mean(cross_val_accuracy)*100).round(2),'%')"
      ],
      "execution_count": 459,
      "outputs": [
        {
          "output_type": "stream",
          "text": [
            "Accuracy of the optimized model with cross-validation is:  81.48 %\n"
          ],
          "name": "stdout"
        }
      ]
    },
    {
      "cell_type": "markdown",
      "metadata": {
        "id": "iqEJlngT92WJ"
      },
      "source": [
        "**6) Running the Model on Test Set**"
      ]
    },
    {
      "cell_type": "markdown",
      "metadata": {
        "id": "JGa6cwr6-K6I"
      },
      "source": [
        "Clean up is still required on the test set in similar procedures:\n",
        "\n",
        "\n",
        "*   Drop columns with unique identifiers or too much missing data (Passenger id, ticket, cabin)\n",
        "*   Fill in missing data (Age) by group\n",
        "*   Hot Code important categorical data\n",
        "\n",
        "\n",
        "\n"
      ]
    },
    {
      "cell_type": "code",
      "metadata": {
        "colab": {
          "base_uri": "https://localhost:8080/",
          "height": 129
        },
        "id": "UXNxR3gW91O9",
        "outputId": "f6e7b2a7-c9c5-4cd9-f688-e84ed1229b17"
      },
      "source": [
        "print(testraw.shape)\n",
        "testraw.head(2)"
      ],
      "execution_count": 460,
      "outputs": [
        {
          "output_type": "stream",
          "text": [
            "(418, 11)\n"
          ],
          "name": "stdout"
        },
        {
          "output_type": "execute_result",
          "data": {
            "text/html": [
              "<div>\n",
              "<style scoped>\n",
              "    .dataframe tbody tr th:only-of-type {\n",
              "        vertical-align: middle;\n",
              "    }\n",
              "\n",
              "    .dataframe tbody tr th {\n",
              "        vertical-align: top;\n",
              "    }\n",
              "\n",
              "    .dataframe thead th {\n",
              "        text-align: right;\n",
              "    }\n",
              "</style>\n",
              "<table border=\"1\" class=\"dataframe\">\n",
              "  <thead>\n",
              "    <tr style=\"text-align: right;\">\n",
              "      <th></th>\n",
              "      <th>PassengerId</th>\n",
              "      <th>Pclass</th>\n",
              "      <th>Name</th>\n",
              "      <th>Sex</th>\n",
              "      <th>Age</th>\n",
              "      <th>SibSp</th>\n",
              "      <th>Parch</th>\n",
              "      <th>Ticket</th>\n",
              "      <th>Fare</th>\n",
              "      <th>Cabin</th>\n",
              "      <th>Embarked</th>\n",
              "    </tr>\n",
              "  </thead>\n",
              "  <tbody>\n",
              "    <tr>\n",
              "      <th>0</th>\n",
              "      <td>892</td>\n",
              "      <td>3</td>\n",
              "      <td>Kelly, Mr. James</td>\n",
              "      <td>male</td>\n",
              "      <td>34.5</td>\n",
              "      <td>0</td>\n",
              "      <td>0</td>\n",
              "      <td>330911</td>\n",
              "      <td>7.8292</td>\n",
              "      <td>NaN</td>\n",
              "      <td>Q</td>\n",
              "    </tr>\n",
              "    <tr>\n",
              "      <th>1</th>\n",
              "      <td>893</td>\n",
              "      <td>3</td>\n",
              "      <td>Wilkes, Mrs. James (Ellen Needs)</td>\n",
              "      <td>female</td>\n",
              "      <td>47.0</td>\n",
              "      <td>1</td>\n",
              "      <td>0</td>\n",
              "      <td>363272</td>\n",
              "      <td>7.0000</td>\n",
              "      <td>NaN</td>\n",
              "      <td>S</td>\n",
              "    </tr>\n",
              "  </tbody>\n",
              "</table>\n",
              "</div>"
            ],
            "text/plain": [
              "   PassengerId  Pclass                              Name  ...    Fare  Cabin  Embarked\n",
              "0          892       3                  Kelly, Mr. James  ...  7.8292    NaN         Q\n",
              "1          893       3  Wilkes, Mrs. James (Ellen Needs)  ...  7.0000    NaN         S\n",
              "\n",
              "[2 rows x 11 columns]"
            ]
          },
          "metadata": {
            "tags": []
          },
          "execution_count": 460
        }
      ]
    },
    {
      "cell_type": "code",
      "metadata": {
        "colab": {
          "base_uri": "https://localhost:8080/"
        },
        "id": "VRx1IXpi-urh",
        "outputId": "035b9d03-e3c9-48f0-a1ae-b44f5579a9fe"
      },
      "source": [
        "#check for missing data\n",
        "testraw.isnull().sum()"
      ],
      "execution_count": 461,
      "outputs": [
        {
          "output_type": "execute_result",
          "data": {
            "text/plain": [
              "PassengerId      0\n",
              "Pclass           0\n",
              "Name             0\n",
              "Sex              0\n",
              "Age             86\n",
              "SibSp            0\n",
              "Parch            0\n",
              "Ticket           0\n",
              "Fare             1\n",
              "Cabin          327\n",
              "Embarked         0\n",
              "dtype: int64"
            ]
          },
          "metadata": {
            "tags": []
          },
          "execution_count": 461
        }
      ]
    },
    {
      "cell_type": "code",
      "metadata": {
        "id": "wrN9PJNm-944"
      },
      "source": [
        "# replacing Male/ Female to 0 & 1\n",
        "testraw['Sex'] = testraw['Sex'].replace({'male':0, 'female':1})"
      ],
      "execution_count": 462,
      "outputs": []
    },
    {
      "cell_type": "code",
      "metadata": {
        "colab": {
          "base_uri": "https://localhost:8080/"
        },
        "id": "SCa5L0Ng_aH0",
        "outputId": "dfcc639a-eb06-4528-bc03-96b20db7ca91"
      },
      "source": [
        "# Cleaning up inconsistent format in Name\n",
        "testraw['Name'] = testraw['Name'].str.upper()\n",
        "testraw['Name'].head(3)"
      ],
      "execution_count": 463,
      "outputs": [
        {
          "output_type": "execute_result",
          "data": {
            "text/plain": [
              "0                    KELLY, MR. JAMES\n",
              "1    WILKES, MRS. JAMES (ELLEN NEEDS)\n",
              "2           MYLES, MR. THOMAS FRANCIS\n",
              "Name: Name, dtype: object"
            ]
          },
          "metadata": {
            "tags": []
          },
          "execution_count": 463
        }
      ]
    },
    {
      "cell_type": "code",
      "metadata": {
        "id": "9sYlPjIc_f7-"
      },
      "source": [
        "# split columns accordingly\n",
        "Name1 = testraw['Name'].str.split('[,.]', expand=True)\n",
        "Name1.rename(columns={0: 'Last Name', 1: 'Title', 2: 'First Name'}, inplace=True)"
      ],
      "execution_count": 464,
      "outputs": []
    },
    {
      "cell_type": "code",
      "metadata": {
        "colab": {
          "base_uri": "https://localhost:8080/",
          "height": 423
        },
        "id": "-n8biDNg_wE0",
        "outputId": "b63ef6c9-40eb-4ff0-a255-aee374bf46cd"
      },
      "source": [
        "Name1"
      ],
      "execution_count": 465,
      "outputs": [
        {
          "output_type": "execute_result",
          "data": {
            "text/html": [
              "<div>\n",
              "<style scoped>\n",
              "    .dataframe tbody tr th:only-of-type {\n",
              "        vertical-align: middle;\n",
              "    }\n",
              "\n",
              "    .dataframe tbody tr th {\n",
              "        vertical-align: top;\n",
              "    }\n",
              "\n",
              "    .dataframe thead th {\n",
              "        text-align: right;\n",
              "    }\n",
              "</style>\n",
              "<table border=\"1\" class=\"dataframe\">\n",
              "  <thead>\n",
              "    <tr style=\"text-align: right;\">\n",
              "      <th></th>\n",
              "      <th>Last Name</th>\n",
              "      <th>Title</th>\n",
              "      <th>First Name</th>\n",
              "    </tr>\n",
              "  </thead>\n",
              "  <tbody>\n",
              "    <tr>\n",
              "      <th>0</th>\n",
              "      <td>KELLY</td>\n",
              "      <td>MR</td>\n",
              "      <td>JAMES</td>\n",
              "    </tr>\n",
              "    <tr>\n",
              "      <th>1</th>\n",
              "      <td>WILKES</td>\n",
              "      <td>MRS</td>\n",
              "      <td>JAMES (ELLEN NEEDS)</td>\n",
              "    </tr>\n",
              "    <tr>\n",
              "      <th>2</th>\n",
              "      <td>MYLES</td>\n",
              "      <td>MR</td>\n",
              "      <td>THOMAS FRANCIS</td>\n",
              "    </tr>\n",
              "    <tr>\n",
              "      <th>3</th>\n",
              "      <td>WIRZ</td>\n",
              "      <td>MR</td>\n",
              "      <td>ALBERT</td>\n",
              "    </tr>\n",
              "    <tr>\n",
              "      <th>4</th>\n",
              "      <td>HIRVONEN</td>\n",
              "      <td>MRS</td>\n",
              "      <td>ALEXANDER (HELGA E LINDQVIST)</td>\n",
              "    </tr>\n",
              "    <tr>\n",
              "      <th>...</th>\n",
              "      <td>...</td>\n",
              "      <td>...</td>\n",
              "      <td>...</td>\n",
              "    </tr>\n",
              "    <tr>\n",
              "      <th>413</th>\n",
              "      <td>SPECTOR</td>\n",
              "      <td>MR</td>\n",
              "      <td>WOOLF</td>\n",
              "    </tr>\n",
              "    <tr>\n",
              "      <th>414</th>\n",
              "      <td>OLIVA Y OCANA</td>\n",
              "      <td>DONA</td>\n",
              "      <td>FERMINA</td>\n",
              "    </tr>\n",
              "    <tr>\n",
              "      <th>415</th>\n",
              "      <td>SAETHER</td>\n",
              "      <td>MR</td>\n",
              "      <td>SIMON SIVERTSEN</td>\n",
              "    </tr>\n",
              "    <tr>\n",
              "      <th>416</th>\n",
              "      <td>WARE</td>\n",
              "      <td>MR</td>\n",
              "      <td>FREDERICK</td>\n",
              "    </tr>\n",
              "    <tr>\n",
              "      <th>417</th>\n",
              "      <td>PETER</td>\n",
              "      <td>MASTER</td>\n",
              "      <td>MICHAEL J</td>\n",
              "    </tr>\n",
              "  </tbody>\n",
              "</table>\n",
              "<p>418 rows × 3 columns</p>\n",
              "</div>"
            ],
            "text/plain": [
              "         Last Name    Title                      First Name\n",
              "0            KELLY       MR                           JAMES\n",
              "1           WILKES      MRS             JAMES (ELLEN NEEDS)\n",
              "2            MYLES       MR                  THOMAS FRANCIS\n",
              "3             WIRZ       MR                          ALBERT\n",
              "4         HIRVONEN      MRS   ALEXANDER (HELGA E LINDQVIST)\n",
              "..             ...      ...                             ...\n",
              "413        SPECTOR       MR                           WOOLF\n",
              "414  OLIVA Y OCANA     DONA                         FERMINA\n",
              "415        SAETHER       MR                 SIMON SIVERTSEN\n",
              "416           WARE       MR                       FREDERICK\n",
              "417          PETER   MASTER                       MICHAEL J\n",
              "\n",
              "[418 rows x 3 columns]"
            ]
          },
          "metadata": {
            "tags": []
          },
          "execution_count": 465
        }
      ]
    },
    {
      "cell_type": "code",
      "metadata": {
        "colab": {
          "base_uri": "https://localhost:8080/",
          "height": 112
        },
        "id": "nhfOk9XH_n8X",
        "outputId": "6893be9a-74d8-4abe-d5fc-e2c750886863"
      },
      "source": [
        "# Merge Name with original dataframe\n",
        "testraw = testraw.merge(Name1, how='left', left_index=True, right_index=True)\n",
        "\n",
        "testraw = testraw.drop(['Name'], axis=1)\n",
        "testraw.head(2)"
      ],
      "execution_count": 466,
      "outputs": [
        {
          "output_type": "execute_result",
          "data": {
            "text/html": [
              "<div>\n",
              "<style scoped>\n",
              "    .dataframe tbody tr th:only-of-type {\n",
              "        vertical-align: middle;\n",
              "    }\n",
              "\n",
              "    .dataframe tbody tr th {\n",
              "        vertical-align: top;\n",
              "    }\n",
              "\n",
              "    .dataframe thead th {\n",
              "        text-align: right;\n",
              "    }\n",
              "</style>\n",
              "<table border=\"1\" class=\"dataframe\">\n",
              "  <thead>\n",
              "    <tr style=\"text-align: right;\">\n",
              "      <th></th>\n",
              "      <th>PassengerId</th>\n",
              "      <th>Pclass</th>\n",
              "      <th>Sex</th>\n",
              "      <th>Age</th>\n",
              "      <th>SibSp</th>\n",
              "      <th>Parch</th>\n",
              "      <th>Ticket</th>\n",
              "      <th>Fare</th>\n",
              "      <th>Cabin</th>\n",
              "      <th>Embarked</th>\n",
              "      <th>Last Name</th>\n",
              "      <th>Title</th>\n",
              "      <th>First Name</th>\n",
              "    </tr>\n",
              "  </thead>\n",
              "  <tbody>\n",
              "    <tr>\n",
              "      <th>0</th>\n",
              "      <td>892</td>\n",
              "      <td>3</td>\n",
              "      <td>0</td>\n",
              "      <td>34.5</td>\n",
              "      <td>0</td>\n",
              "      <td>0</td>\n",
              "      <td>330911</td>\n",
              "      <td>7.8292</td>\n",
              "      <td>NaN</td>\n",
              "      <td>Q</td>\n",
              "      <td>KELLY</td>\n",
              "      <td>MR</td>\n",
              "      <td>JAMES</td>\n",
              "    </tr>\n",
              "    <tr>\n",
              "      <th>1</th>\n",
              "      <td>893</td>\n",
              "      <td>3</td>\n",
              "      <td>1</td>\n",
              "      <td>47.0</td>\n",
              "      <td>1</td>\n",
              "      <td>0</td>\n",
              "      <td>363272</td>\n",
              "      <td>7.0000</td>\n",
              "      <td>NaN</td>\n",
              "      <td>S</td>\n",
              "      <td>WILKES</td>\n",
              "      <td>MRS</td>\n",
              "      <td>JAMES (ELLEN NEEDS)</td>\n",
              "    </tr>\n",
              "  </tbody>\n",
              "</table>\n",
              "</div>"
            ],
            "text/plain": [
              "   PassengerId  Pclass  Sex  ...  Last Name  Title            First Name\n",
              "0          892       3    0  ...      KELLY     MR                 JAMES\n",
              "1          893       3    1  ...     WILKES    MRS   JAMES (ELLEN NEEDS)\n",
              "\n",
              "[2 rows x 13 columns]"
            ]
          },
          "metadata": {
            "tags": []
          },
          "execution_count": 466
        }
      ]
    },
    {
      "cell_type": "code",
      "metadata": {
        "colab": {
          "base_uri": "https://localhost:8080/"
        },
        "id": "cOvjN1_wAF1m",
        "outputId": "c339f2f0-c67b-4539-c905-24b71c6d483d"
      },
      "source": [
        "testraw['Title'].unique()"
      ],
      "execution_count": 467,
      "outputs": [
        {
          "output_type": "execute_result",
          "data": {
            "text/plain": [
              "array([' MR', ' MRS', ' MISS', ' MASTER', ' MS', ' COL', ' REV', ' DR',\n",
              "       ' DONA'], dtype=object)"
            ]
          },
          "metadata": {
            "tags": []
          },
          "execution_count": 467
        }
      ]
    },
    {
      "cell_type": "code",
      "metadata": {
        "id": "kXsG_0iOALHL"
      },
      "source": [
        "# cleaning up titles \n",
        "testraw['Title'] = testraw['Title'].replace(dict.fromkeys(['MISS', 'DONA'], 'MS'), regex=True).str. strip(' ')\n",
        "testraw['Title'] = testraw['Title'].replace(dict.fromkeys(['DR', 'REV', 'COL'], 'RANKED'), regex=True).str. strip(' ')"
      ],
      "execution_count": 468,
      "outputs": []
    },
    {
      "cell_type": "code",
      "metadata": {
        "colab": {
          "base_uri": "https://localhost:8080/"
        },
        "id": "s9IPntzjAgm6",
        "outputId": "eb053461-2f2b-4e2f-8df9-870354bc7370"
      },
      "source": [
        "# mean age by age group\n",
        "master1 = round(testraw[testraw['Title']=='MASTER']['Age'].mean(),2)\n",
        "mr1 = round(testraw[testraw['Title']=='MR']['Age'].mean(),2)\n",
        "mrs1 = round(testraw[testraw['Title']=='MRS']['Age'].mean(),2)\n",
        "ms1 = round(testraw[testraw['Title']=='MS']['Age'].mean(),2)\n",
        "ranked1 = round(testraw[testraw['Title']=='RANKED']['Age'].mean(),2)\n",
        "print('mean age of (master/ mr/ mrs/ ms/ ranked):', master1, mr1, mrs1, ms1, ranked1)"
      ],
      "execution_count": 469,
      "outputs": [
        {
          "output_type": "stream",
          "text": [
            "mean age of (master/ mr/ mrs/ ms/ ranked): 7.41 32.0 38.9 22.04 44.8\n"
          ],
          "name": "stdout"
        }
      ]
    },
    {
      "cell_type": "code",
      "metadata": {
        "id": "BIygubryBIxu"
      },
      "source": [
        "# fillna by group's mean age\n",
        "testraw.loc[testraw['Title'] == 'MASTER', 'Age'] = testraw.loc[testraw['Title'] == 'MASTER', 'Age'].fillna(master1)\n",
        "testraw.loc[testraw['Title'] == 'MR', 'Age'] = testraw.loc[testraw['Title'] == 'MR', 'Age'].fillna(mr1)\n",
        "testraw.loc[testraw['Title'] == 'MS', 'Age'] = testraw.loc[testraw['Title'] == 'MS', 'Age'].fillna(ms1)\n",
        "testraw.loc[testraw['Title'] == 'MRS', 'Age'] = testraw.loc[testraw['Title'] == 'MRS', 'Age'].fillna(mrs1)\n",
        "testraw.loc[testraw['Title'] == 'RANKED', 'Age'] = testraw.loc[testraw['Title'] == 'RANKED', 'Age'].fillna(ranked1)"
      ],
      "execution_count": 470,
      "outputs": []
    },
    {
      "cell_type": "code",
      "metadata": {
        "id": "rJN3aG-u-3Fz"
      },
      "source": [
        "# removing unique identifier columns\n",
        "dropcolumns1 = ['Ticket', 'Last Name', 'First Name', 'Cabin']\n",
        "testraw = testraw.drop(dropcolumns1, axis=1)"
      ],
      "execution_count": 471,
      "outputs": []
    },
    {
      "cell_type": "code",
      "metadata": {
        "colab": {
          "base_uri": "https://localhost:8080/",
          "height": 163
        },
        "id": "qHuHbhwDBkbH",
        "outputId": "968c4a6a-a2b5-486e-ea33-206bec9b2c31"
      },
      "source": [
        "# one-hot-coding categorical data which will facilitate modelling\n",
        "codedcolumns1 = ['Pclass', 'Embarked', 'Title']\n",
        "dftest = pd.get_dummies(testraw, columns = codedcolumns1)\n",
        "dftest.head(3)"
      ],
      "execution_count": 472,
      "outputs": [
        {
          "output_type": "execute_result",
          "data": {
            "text/html": [
              "<div>\n",
              "<style scoped>\n",
              "    .dataframe tbody tr th:only-of-type {\n",
              "        vertical-align: middle;\n",
              "    }\n",
              "\n",
              "    .dataframe tbody tr th {\n",
              "        vertical-align: top;\n",
              "    }\n",
              "\n",
              "    .dataframe thead th {\n",
              "        text-align: right;\n",
              "    }\n",
              "</style>\n",
              "<table border=\"1\" class=\"dataframe\">\n",
              "  <thead>\n",
              "    <tr style=\"text-align: right;\">\n",
              "      <th></th>\n",
              "      <th>PassengerId</th>\n",
              "      <th>Sex</th>\n",
              "      <th>Age</th>\n",
              "      <th>SibSp</th>\n",
              "      <th>Parch</th>\n",
              "      <th>Fare</th>\n",
              "      <th>Pclass_1</th>\n",
              "      <th>Pclass_2</th>\n",
              "      <th>Pclass_3</th>\n",
              "      <th>Embarked_C</th>\n",
              "      <th>Embarked_Q</th>\n",
              "      <th>Embarked_S</th>\n",
              "      <th>Title_MASTER</th>\n",
              "      <th>Title_MR</th>\n",
              "      <th>Title_MRS</th>\n",
              "      <th>Title_MS</th>\n",
              "      <th>Title_RANKED</th>\n",
              "    </tr>\n",
              "  </thead>\n",
              "  <tbody>\n",
              "    <tr>\n",
              "      <th>0</th>\n",
              "      <td>892</td>\n",
              "      <td>0</td>\n",
              "      <td>34.5</td>\n",
              "      <td>0</td>\n",
              "      <td>0</td>\n",
              "      <td>7.8292</td>\n",
              "      <td>0</td>\n",
              "      <td>0</td>\n",
              "      <td>1</td>\n",
              "      <td>0</td>\n",
              "      <td>1</td>\n",
              "      <td>0</td>\n",
              "      <td>0</td>\n",
              "      <td>1</td>\n",
              "      <td>0</td>\n",
              "      <td>0</td>\n",
              "      <td>0</td>\n",
              "    </tr>\n",
              "    <tr>\n",
              "      <th>1</th>\n",
              "      <td>893</td>\n",
              "      <td>1</td>\n",
              "      <td>47.0</td>\n",
              "      <td>1</td>\n",
              "      <td>0</td>\n",
              "      <td>7.0000</td>\n",
              "      <td>0</td>\n",
              "      <td>0</td>\n",
              "      <td>1</td>\n",
              "      <td>0</td>\n",
              "      <td>0</td>\n",
              "      <td>1</td>\n",
              "      <td>0</td>\n",
              "      <td>0</td>\n",
              "      <td>1</td>\n",
              "      <td>0</td>\n",
              "      <td>0</td>\n",
              "    </tr>\n",
              "    <tr>\n",
              "      <th>2</th>\n",
              "      <td>894</td>\n",
              "      <td>0</td>\n",
              "      <td>62.0</td>\n",
              "      <td>0</td>\n",
              "      <td>0</td>\n",
              "      <td>9.6875</td>\n",
              "      <td>0</td>\n",
              "      <td>1</td>\n",
              "      <td>0</td>\n",
              "      <td>0</td>\n",
              "      <td>1</td>\n",
              "      <td>0</td>\n",
              "      <td>0</td>\n",
              "      <td>1</td>\n",
              "      <td>0</td>\n",
              "      <td>0</td>\n",
              "      <td>0</td>\n",
              "    </tr>\n",
              "  </tbody>\n",
              "</table>\n",
              "</div>"
            ],
            "text/plain": [
              "   PassengerId  Sex   Age  SibSp  ...  Title_MR  Title_MRS  Title_MS  Title_RANKED\n",
              "0          892    0  34.5      0  ...         1          0         0             0\n",
              "1          893    1  47.0      1  ...         0          1         0             0\n",
              "2          894    0  62.0      0  ...         1          0         0             0\n",
              "\n",
              "[3 rows x 17 columns]"
            ]
          },
          "metadata": {
            "tags": []
          },
          "execution_count": 472
        }
      ]
    },
    {
      "cell_type": "code",
      "metadata": {
        "colab": {
          "base_uri": "https://localhost:8080/"
        },
        "id": "PjwFCi3tMXHc",
        "outputId": "f6753a62-a083-48a7-90bd-a48a07e65ce6"
      },
      "source": [
        "dftest['Fare'].mean()"
      ],
      "execution_count": 473,
      "outputs": [
        {
          "output_type": "execute_result",
          "data": {
            "text/plain": [
              "35.6271884892086"
            ]
          },
          "metadata": {
            "tags": []
          },
          "execution_count": 473
        }
      ]
    },
    {
      "cell_type": "code",
      "metadata": {
        "id": "rvrGOvFCLh8Q"
      },
      "source": [
        "dftest['Fare'].fillna(35, inplace=True)"
      ],
      "execution_count": 474,
      "outputs": []
    },
    {
      "cell_type": "code",
      "metadata": {
        "id": "iX4Wfwx4E7HJ"
      },
      "source": [
        "columns = final_df.columns.tolist()"
      ],
      "execution_count": 475,
      "outputs": []
    },
    {
      "cell_type": "code",
      "metadata": {
        "colab": {
          "base_uri": "https://localhost:8080/"
        },
        "id": "OQa3ghy0MOOr",
        "outputId": "af1cd872-d95e-4243-b2e7-4952b8217cd4"
      },
      "source": [
        "dftest[columns].isnull().sum()"
      ],
      "execution_count": 476,
      "outputs": [
        {
          "output_type": "execute_result",
          "data": {
            "text/plain": [
              "SibSp           0\n",
              "Parch           0\n",
              "Fare            0\n",
              "Pclass_2        0\n",
              "Pclass_3        0\n",
              "Embarked_Q      0\n",
              "Embarked_S      0\n",
              "Title_MASTER    0\n",
              "Title_MRS       0\n",
              "Title_MS        0\n",
              "Title_RANKED    0\n",
              "dtype: int64"
            ]
          },
          "metadata": {
            "tags": []
          },
          "execution_count": 476
        }
      ]
    },
    {
      "cell_type": "code",
      "metadata": {
        "colab": {
          "base_uri": "https://localhost:8080/"
        },
        "id": "77loImG7K0r3",
        "outputId": "621053d3-edcc-4f79-cf01-50508326d461"
      },
      "source": [
        "# build the model\n",
        "lrf = LogisticRegression(solver='lbfgs', max_iter=1000, penalty='l2')\n",
        "lrf_model = lrf.fit(X_train, y_train)\n",
        "test_predictions = lrf.predict(dftest[columns])\n",
        "test_predictions"
      ],
      "execution_count": 477,
      "outputs": [
        {
          "output_type": "execute_result",
          "data": {
            "text/plain": [
              "array([0, 1, 0, 0, 1, 0, 1, 0, 1, 0, 0, 0, 1, 0, 1, 1, 0, 0, 1, 1, 0, 1,\n",
              "       1, 0, 1, 0, 1, 0, 0, 0, 0, 0, 1, 1, 0, 0, 1, 1, 0, 0, 0, 0, 0, 1,\n",
              "       1, 0, 0, 0, 1, 1, 0, 0, 1, 1, 0, 0, 0, 0, 0, 1, 0, 0, 0, 1, 1, 1,\n",
              "       1, 0, 0, 1, 1, 0, 1, 0, 1, 1, 0, 1, 0, 1, 1, 0, 0, 0, 0, 0, 1, 1,\n",
              "       1, 1, 1, 0, 1, 0, 0, 0, 1, 0, 1, 0, 1, 0, 0, 0, 1, 0, 0, 0, 0, 0,\n",
              "       0, 1, 1, 1, 1, 0, 0, 1, 0, 1, 1, 0, 1, 0, 0, 1, 0, 1, 0, 0, 0, 0,\n",
              "       1, 0, 0, 0, 0, 0, 1, 0, 0, 1, 1, 0, 0, 0, 0, 0, 0, 0, 1, 0, 0, 1,\n",
              "       0, 0, 1, 1, 0, 1, 1, 1, 1, 0, 0, 1, 0, 0, 1, 1, 0, 0, 0, 0, 0, 1,\n",
              "       1, 0, 1, 1, 0, 0, 1, 0, 1, 0, 1, 0, 0, 0, 0, 0, 1, 0, 1, 0, 1, 1,\n",
              "       0, 1, 1, 1, 1, 1, 0, 0, 1, 0, 1, 0, 0, 0, 0, 1, 0, 0, 1, 0, 1, 0,\n",
              "       1, 0, 1, 0, 1, 1, 0, 1, 0, 0, 0, 1, 0, 0, 0, 0, 0, 0, 1, 1, 1, 1,\n",
              "       0, 0, 0, 0, 1, 0, 1, 1, 1, 0, 0, 0, 0, 0, 0, 0, 1, 0, 0, 0, 1, 1,\n",
              "       0, 0, 0, 0, 1, 0, 0, 0, 1, 1, 0, 1, 0, 0, 0, 0, 1, 1, 1, 1, 1, 0,\n",
              "       0, 0, 0, 0, 0, 1, 0, 0, 0, 0, 1, 0, 0, 0, 0, 0, 0, 0, 1, 1, 0, 1,\n",
              "       0, 1, 0, 0, 0, 1, 1, 1, 0, 0, 0, 0, 0, 0, 0, 0, 1, 0, 1, 0, 0, 0,\n",
              "       1, 0, 0, 1, 0, 0, 0, 0, 0, 1, 0, 0, 0, 1, 1, 1, 0, 1, 0, 1, 1, 0,\n",
              "       0, 0, 0, 0, 1, 0, 0, 1, 0, 1, 1, 0, 1, 0, 0, 1, 1, 0, 0, 1, 0, 0,\n",
              "       1, 1, 0, 0, 0, 0, 0, 0, 1, 1, 0, 1, 0, 0, 0, 0, 0, 1, 1, 0, 0, 1,\n",
              "       0, 1, 0, 0, 1, 0, 1, 0, 0, 0, 0, 1, 1, 1, 1, 1, 1, 0, 1, 0, 0, 1])"
            ]
          },
          "metadata": {
            "tags": []
          },
          "execution_count": 477
        }
      ]
    },
    {
      "cell_type": "markdown",
      "metadata": {
        "id": "uqjBUQJ7EOr_"
      },
      "source": [
        "Creating the Submission file"
      ]
    },
    {
      "cell_type": "code",
      "metadata": {
        "id": "9YDONYP6ETz-"
      },
      "source": [
        "pids = testraw['PassengerId']\n",
        "submit_df = {'PassengerId': pids,\n",
        "             \"Survived\": test_predictions}\n",
        "submission = pd.DataFrame.from_dict(submit_df)"
      ],
      "execution_count": 478,
      "outputs": []
    },
    {
      "cell_type": "code",
      "metadata": {
        "colab": {
          "base_uri": "https://localhost:8080/",
          "height": 143
        },
        "id": "OKG4wmvuFcsb",
        "outputId": "34ee2a2d-f739-4741-f501-4669525710b6"
      },
      "source": [
        "submission.head(3)"
      ],
      "execution_count": 479,
      "outputs": [
        {
          "output_type": "execute_result",
          "data": {
            "text/html": [
              "<div>\n",
              "<style scoped>\n",
              "    .dataframe tbody tr th:only-of-type {\n",
              "        vertical-align: middle;\n",
              "    }\n",
              "\n",
              "    .dataframe tbody tr th {\n",
              "        vertical-align: top;\n",
              "    }\n",
              "\n",
              "    .dataframe thead th {\n",
              "        text-align: right;\n",
              "    }\n",
              "</style>\n",
              "<table border=\"1\" class=\"dataframe\">\n",
              "  <thead>\n",
              "    <tr style=\"text-align: right;\">\n",
              "      <th></th>\n",
              "      <th>PassengerId</th>\n",
              "      <th>Survived</th>\n",
              "    </tr>\n",
              "  </thead>\n",
              "  <tbody>\n",
              "    <tr>\n",
              "      <th>0</th>\n",
              "      <td>892</td>\n",
              "      <td>0</td>\n",
              "    </tr>\n",
              "    <tr>\n",
              "      <th>1</th>\n",
              "      <td>893</td>\n",
              "      <td>1</td>\n",
              "    </tr>\n",
              "    <tr>\n",
              "      <th>2</th>\n",
              "      <td>894</td>\n",
              "      <td>0</td>\n",
              "    </tr>\n",
              "  </tbody>\n",
              "</table>\n",
              "</div>"
            ],
            "text/plain": [
              "   PassengerId  Survived\n",
              "0          892         0\n",
              "1          893         1\n",
              "2          894         0"
            ]
          },
          "metadata": {
            "tags": []
          },
          "execution_count": 479
        }
      ]
    },
    {
      "cell_type": "code",
      "metadata": {
        "id": "5NQBWflRDvoE"
      },
      "source": [
        "submission.to_csv('titanic_submission1.csv', index=False)"
      ],
      "execution_count": 480,
      "outputs": []
    }
  ]
}
